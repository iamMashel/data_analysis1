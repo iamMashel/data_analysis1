{
 "cells": [
  {
   "cell_type": "code",
   "execution_count": 2,
   "id": "d9a2a179",
   "metadata": {},
   "outputs": [],
   "source": [
    "import pandas as pd\n",
    "import numpy as np\n",
    "\n",
    "# Generate dummy sales data\n",
    "np.random.seed(42)\n",
    "dates = pd.date_range(start=\"2023-01-01\", periods=30, freq=\"D\")\n",
    "\n",
    "products = ['Espresso', 'Latte', 'Cappuccino', 'Mocha', 'Tea']\n",
    "prices = {'Espresso': 2.5, 'Latte': 3.5, 'Cappuccino': 3.0, 'Mocha': 4.0, 'Tea': 2.0}\n",
    "\n",
    "data = []\n",
    "\n",
    "for date in dates:\n",
    "    for _ in range(np.random.randint(50, 100)):\n",
    "        product = np.random.choice(products)\n",
    "        time = f\"{np.random.randint(7, 19)}:00\"\n",
    "        data.append({\n",
    "            'Date': date,\n",
    "            'Time': time,\n",
    "            'Product': product,\n",
    "            'Price': prices[product]\n",
    "        })\n",
    "\n",
    "df = pd.DataFrame(data)\n"
   ]
  },
  {
   "cell_type": "code",
   "execution_count": 3,
   "id": "8c52783c",
   "metadata": {},
   "outputs": [
    {
     "name": "stdout",
     "output_type": "stream",
     "text": [
      "        Date   Time     Product  Price\n",
      "0 2023-01-01  17:00       Mocha    4.0\n",
      "1 2023-01-01  11:00         Tea    2.0\n",
      "2 2023-01-01   9:00       Latte    3.5\n",
      "3 2023-01-01  17:00  Cappuccino    3.0\n",
      "4 2023-01-01  10:00         Tea    2.0\n",
      "Product\n",
      "Espresso      491\n",
      "Latte         478\n",
      "Tea           476\n",
      "Mocha         472\n",
      "Cappuccino    467\n",
      "Name: count, dtype: int64\n",
      "                                Date        Price\n",
      "count                           2384  2384.000000\n",
      "mean   2023-01-14 23:05:38.255033600     2.995596\n",
      "min              2023-01-01 00:00:00     2.000000\n",
      "25%              2023-01-08 00:00:00     2.500000\n",
      "50%              2023-01-15 00:00:00     3.000000\n",
      "75%              2023-01-22 00:00:00     3.500000\n",
      "max              2023-01-30 00:00:00     4.000000\n",
      "std                              NaN     0.706722\n"
     ]
    }
   ],
   "source": [
    "print(df.head())\n",
    "print(df['Product'].value_counts())\n",
    "print(df.describe())\n"
   ]
  }
 ],
 "metadata": {
  "kernelspec": {
   "display_name": "scaffolds",
   "language": "python",
   "name": "python3"
  },
  "language_info": {
   "codemirror_mode": {
    "name": "ipython",
    "version": 3
   },
   "file_extension": ".py",
   "mimetype": "text/x-python",
   "name": "python",
   "nbconvert_exporter": "python",
   "pygments_lexer": "ipython3",
   "version": "3.12.9"
  }
 },
 "nbformat": 4,
 "nbformat_minor": 5
}
